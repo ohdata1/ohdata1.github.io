{
  "nbformat": 4,
  "nbformat_minor": 0,
  "metadata": {
    "colab": {
      "name": "TMDB.ipynb",
      "provenance": [],
      "authorship_tag": "ABX9TyOeecDxYR6myqrnMhMfvoFG",
      "include_colab_link": true
    },
    "kernelspec": {
      "name": "python3",
      "display_name": "Python 3"
    },
    "language_info": {
      "name": "python"
    }
  },
  "cells": [
    {
      "cell_type": "markdown",
      "metadata": {
        "id": "view-in-github",
        "colab_type": "text"
      },
      "source": [
        "<a href=\"https://colab.research.google.com/github/ohdata1/ohdata1.github.io/blob/main/TMDB.ipynb\" target=\"_parent\"><img src=\"https://colab.research.google.com/assets/colab-badge.svg\" alt=\"Open In Colab\"/></a>"
      ]
    },
    {
      "cell_type": "code",
      "metadata": {
        "id": "2xntIl7q47t6"
      },
      "source": [
        "import pandas as pd"
      ],
      "execution_count": 4,
      "outputs": []
    },
    {
      "cell_type": "code",
      "metadata": {
        "id": "kCw0p55Z1c_K"
      },
      "source": [
        "url ='https://api.themoviedb.org/3/discover/movie?api_key=af9e301791f4e89038d7a6b5ec5630c2&language=en-US&sort_by=revenue.desc&include_adult=false&include_video=false&page=1&primary_release_year=2005&with_watch_monetization_types=flatrate'\n",
        "html = requests.get(url)\n",
        "json_data=html.json()"
      ],
      "execution_count": 27,
      "outputs": []
    },
    {
      "cell_type": "code",
      "source": [
        "df = pd.DataFrame(json_data['results'])"
      ],
      "metadata": {
        "id": "zndbC9WUAVm3"
      },
      "execution_count": 28,
      "outputs": []
    },
    {
      "cell_type": "code",
      "source": [
        "url1 ='https://api.themoviedb.org/3/discover/movie?api_key=af9e301791f4e89038d7a6b5ec5630c2&language=en-US&sort_by=revenue.desc&include_adult=false&include_video=false&page=4&primary_release_year=2005&with_watch_monetization_types=flatrate'\n",
        "html1 = requests.get(url1)\n",
        "json_data1=html1.json()\n",
        "\n",
        "df1 = pd.DataFrame(json_data1['results'])"
      ],
      "metadata": {
        "id": "XsEHYqw6BTGh"
      },
      "execution_count": 29,
      "outputs": []
    },
    {
      "cell_type": "code",
      "source": [
        "url2 ='https://api.themoviedb.org/3/discover/movie?api_key=af9e301791f4e89038d7a6b5ec5630c2&language=en-US&sort_by=revenue.desc&include_adult=false&include_video=false&page=8&primary_release_year=2005&with_watch_monetization_types=flatrate'\n",
        "html2 = requests.get(url2)\n",
        "json_data2=html2.json()\n",
        "\n",
        "df2 = pd.DataFrame(json_data2['results'])"
      ],
      "metadata": {
        "id": "__EHWxKdBexG"
      },
      "execution_count": 30,
      "outputs": []
    },
    {
      "cell_type": "code",
      "source": [
        "df3 = pd.concat([df,df1,df2])"
      ],
      "metadata": {
        "id": "IfeIt6PEB6Rp"
      },
      "execution_count": 31,
      "outputs": []
    },
    {
      "cell_type": "code",
      "source": [
        "df3.to_csv('movie_data.csv')"
      ],
      "metadata": {
        "id": "HQApjDo0CWMn"
      },
      "execution_count": 32,
      "outputs": []
    }
  ]
}