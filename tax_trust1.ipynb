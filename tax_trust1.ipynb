{
  "nbformat": 4,
  "nbformat_minor": 0,
  "metadata": {
    "colab": {
      "name": "tax_trust1.ipynb",
      "provenance": [],
      "authorship_tag": "ABX9TyPYn3d12YAOnkDkE7ekLhY6",
      "include_colab_link": true
    },
    "kernelspec": {
      "name": "python3",
      "display_name": "Python 3"
    },
    "language_info": {
      "name": "python"
    }
  },
  "cells": [
    {
      "cell_type": "markdown",
      "metadata": {
        "id": "view-in-github",
        "colab_type": "text"
      },
      "source": [
        "<a href=\"https://colab.research.google.com/github/ohdata1/ohdata1.github.io/blob/main/tax_trust1.ipynb\" target=\"_parent\"><img src=\"https://colab.research.google.com/assets/colab-badge.svg\" alt=\"Open In Colab\"/></a>"
      ]
    },
    {
      "cell_type": "code",
      "execution_count": null,
      "metadata": {
        "id": "GjpCH4_2XHtn"
      },
      "outputs": [],
      "source": [
        "import pandas as pd\n",
        "import requests\n"
      ]
    },
    {
      "cell_type": "code",
      "source": [
        "# Import all tables from pew website\n",
        "table=pd.read_html('https://www.pewresearch.org/politics/2021/05/17/public-trust-in-government-1958-2021/')"
      ],
      "metadata": {
        "id": "3zGbVHTSXj2G"
      },
      "execution_count": null,
      "outputs": []
    },
    {
      "cell_type": "code",
      "source": [
        "# Create a dataframe from the desired table within\n",
        "df = table[0]"
      ],
      "metadata": {
        "id": "lSI1lhWgXod-"
      },
      "execution_count": null,
      "outputs": []
    },
    {
      "cell_type": "code",
      "source": [
        "# remove undesired data from dataframe\n",
        "df = df.drop(columns=['.', 'Individual polls'])"
      ],
      "metadata": {
        "id": "G9VAbsAJX3TR"
      },
      "execution_count": null,
      "outputs": []
    },
    {
      "cell_type": "code",
      "source": [
        "df.columns=['date','trust']"
      ],
      "metadata": {
        "id": "uPkqlE45YNGk"
      },
      "execution_count": null,
      "outputs": []
    },
    {
      "cell_type": "code",
      "source": [
        "df['date'] = pd.to_datetime(df['date'])\n",
        "df['date'] = pd.DatetimeIndex(df['date']).year"
      ],
      "metadata": {
        "id": "VH8h0rDrvbsC"
      },
      "execution_count": null,
      "outputs": []
    },
    {
      "cell_type": "code",
      "source": [
        "# In order to merge dataframes by year need to average polls if there are multiple within a year\n",
        "df = df.groupby('date').mean('trust')"
      ],
      "metadata": {
        "id": "mg45Rl-vaCyy"
      },
      "execution_count": null,
      "outputs": []
    },
    {
      "cell_type": "code",
      "source": [
        "df.reset_index(level=0, inplace=True)"
      ],
      "metadata": {
        "id": "9IErscWHwDg-"
      },
      "execution_count": null,
      "outputs": []
    },
    {
      "cell_type": "code",
      "source": [
        "!pip install fredapi\n",
        "from fredapi import Fred\n",
        "fred = Fred(api_key='0c71fd8c083f6989edcca64696b9d5ab')\n",
        "data = fred.get_series('IITTRHB')"
      ],
      "metadata": {
        "colab": {
          "base_uri": "https://localhost:8080/"
        },
        "id": "4X6xRBM9Yrin",
        "outputId": "37616208-c626-4cdf-c40d-8028345cabae"
      },
      "execution_count": null,
      "outputs": [
        {
          "output_type": "stream",
          "name": "stdout",
          "text": [
            "Collecting fredapi\n",
            "  Downloading fredapi-0.4.3-py3-none-any.whl (11 kB)\n",
            "Requirement already satisfied: pandas in /usr/local/lib/python3.7/dist-packages (from fredapi) (1.1.5)\n",
            "Requirement already satisfied: pytz>=2017.2 in /usr/local/lib/python3.7/dist-packages (from pandas->fredapi) (2018.9)\n",
            "Requirement already satisfied: python-dateutil>=2.7.3 in /usr/local/lib/python3.7/dist-packages (from pandas->fredapi) (2.8.2)\n",
            "Requirement already satisfied: numpy>=1.15.4 in /usr/local/lib/python3.7/dist-packages (from pandas->fredapi) (1.19.5)\n",
            "Requirement already satisfied: six>=1.5 in /usr/local/lib/python3.7/dist-packages (from python-dateutil>=2.7.3->pandas->fredapi) (1.15.0)\n",
            "Installing collected packages: fredapi\n",
            "Successfully installed fredapi-0.4.3\n"
          ]
        }
      ]
    },
    {
      "cell_type": "code",
      "source": [
        "df1 = pd.DataFrame(data)"
      ],
      "metadata": {
        "id": "PCbWyiP0Yu_E"
      },
      "execution_count": null,
      "outputs": []
    },
    {
      "cell_type": "code",
      "source": [
        "df1.reset_index(level=0, inplace=True)"
      ],
      "metadata": {
        "id": "6k8bQ9_ErUWC"
      },
      "execution_count": null,
      "outputs": []
    },
    {
      "cell_type": "code",
      "source": [
        "df1.columns = ['date','tax']"
      ],
      "metadata": {
        "id": "XIDCsSN5dK9a"
      },
      "execution_count": null,
      "outputs": []
    },
    {
      "cell_type": "code",
      "source": [
        "# Turn date into only year so it can be merged\n",
        "df1['date'] = pd.to_datetime(df1['date'])\n",
        "df1['date'] = pd.DatetimeIndex(df1['date']).year"
      ],
      "metadata": {
        "id": "GRAU9-TArIKp"
      },
      "execution_count": null,
      "outputs": []
    },
    {
      "cell_type": "code",
      "source": [
        "df2 = pd.merge(df, df1, how='outer')"
      ],
      "metadata": {
        "id": "20ZQZyWQtUvY"
      },
      "execution_count": null,
      "outputs": []
    },
    {
      "cell_type": "code",
      "source": [
        "df2.columns = ['year','trust','tax']"
      ],
      "metadata": {
        "id": "GDbwZeosyqP9"
      },
      "execution_count": null,
      "outputs": []
    },
    {
      "cell_type": "code",
      "source": [
        "# Need both date and year in order to filter data for start and end year slider on chart\n",
        "df2['date'] = pd.to_datetime(df2['year'], format='%Y')"
      ],
      "metadata": {
        "id": "uY8e6FaWy9Yu"
      },
      "execution_count": null,
      "outputs": []
    },
    {
      "cell_type": "code",
      "source": [
        "df2.to_csv('tax_trust.csv')"
      ],
      "metadata": {
        "id": "kvKb35Zytc-o"
      },
      "execution_count": null,
      "outputs": []
    }
  ]
}