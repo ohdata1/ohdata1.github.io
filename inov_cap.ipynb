{
  "nbformat": 4,
  "nbformat_minor": 0,
  "metadata": {
    "colab": {
      "name": "inov_cap.ipynb",
      "provenance": [],
      "authorship_tag": "ABX9TyPuG4NCirpsWYKJDBc2cz7g",
      "include_colab_link": true
    },
    "kernelspec": {
      "name": "python3",
      "display_name": "Python 3"
    },
    "language_info": {
      "name": "python"
    }
  },
  "cells": [
    {
      "cell_type": "markdown",
      "metadata": {
        "id": "view-in-github",
        "colab_type": "text"
      },
      "source": [
        "<a href=\"https://colab.research.google.com/github/ohdata1/ohdata1.github.io/blob/main/inov_cap.ipynb\" target=\"_parent\"><img src=\"https://colab.research.google.com/assets/colab-badge.svg\" alt=\"Open In Colab\"/></a>"
      ]
    },
    {
      "cell_type": "code",
      "execution_count": null,
      "metadata": {
        "id": "BdNiElURBD6H"
      },
      "outputs": [],
      "source": [
        "import pandas as pd\n"
      ]
    },
    {
      "cell_type": "code",
      "source": [
        "df1 = pd.read_excel('pwtcap.xlsx')"
      ],
      "metadata": {
        "id": "7oVhhFZHt1ic"
      },
      "execution_count": null,
      "outputs": []
    },
    {
      "cell_type": "code",
      "source": [
        "# filter to a specific year\n",
        "df1 =df1[(df1['year'] == 2015)]"
      ],
      "metadata": {
        "id": "QwqRLcD5qYg-"
      },
      "execution_count": null,
      "outputs": []
    },
    {
      "cell_type": "code",
      "source": [
        "df2 = pd.read_csv('GII.csv')"
      ],
      "metadata": {
        "id": "Kag7OVQMuWgT"
      },
      "execution_count": null,
      "outputs": []
    },
    {
      "cell_type": "code",
      "source": [
        "df = pd.merge(df1,df2)"
      ],
      "metadata": {
        "id": "3FUKQkDFu1xj"
      },
      "execution_count": null,
      "outputs": []
    },
    {
      "cell_type": "code",
      "source": [
        "# remove n/a values\n",
        "df[df.gdpcap.notnull()]"
      ],
      "metadata": {
        "id": "2vDbcW8bww-K"
      },
      "execution_count": null,
      "outputs": []
    },
    {
      "cell_type": "code",
      "source": [
        "df3 = pd.read_excel('Gov_taxes.xlsx')"
      ],
      "metadata": {
        "id": "LpTzI7m7uDRQ"
      },
      "execution_count": null,
      "outputs": []
    },
    {
      "cell_type": "code",
      "source": [
        "df3 =df3[(df3['year'] == 2015)]"
      ],
      "metadata": {
        "id": "zWq9khjkuXdy"
      },
      "execution_count": null,
      "outputs": []
    },
    {
      "cell_type": "code",
      "source": [
        "df = pd.merge(df,df3)"
      ],
      "metadata": {
        "id": "2mun6fUWuI7i"
      },
      "execution_count": null,
      "outputs": []
    },
    {
      "cell_type": "code",
      "source": [
        "df[df.total.notnull()]\n"
      ],
      "metadata": {
        "id": "24ouTJU0urL9"
      },
      "execution_count": null,
      "outputs": []
    },
    {
      "cell_type": "code",
      "source": [
        "# scrape continent data\n",
        "data = pd.read_html('https://statisticstimes.com/geography/countries-by-continents.php')"
      ],
      "metadata": {
        "id": "cDM3ZE5Rv-Ua"
      },
      "execution_count": null,
      "outputs": []
    },
    {
      "cell_type": "code",
      "source": [
        "data[2].columns = ('no','country','iso','m49','region1','region2','continent')"
      ],
      "metadata": {
        "id": "rkehhm8MwIsJ"
      },
      "execution_count": null,
      "outputs": []
    },
    {
      "cell_type": "code",
      "source": [
        "df4 = data[2]"
      ],
      "metadata": {
        "id": "YVC_29nXxqtw"
      },
      "execution_count": null,
      "outputs": []
    },
    {
      "cell_type": "code",
      "source": [
        "# merge using 3-letter iso to avoid different spelling of countries issues\n",
        "df4 = df4[['iso','continent']]"
      ],
      "metadata": {
        "id": "bPuwuPnMx_c1"
      },
      "execution_count": null,
      "outputs": []
    },
    {
      "cell_type": "code",
      "source": [
        "df = pd.merge(df,df4)"
      ],
      "metadata": {
        "id": "LpbLvfpfxvTD"
      },
      "execution_count": null,
      "outputs": []
    },
    {
      "cell_type": "code",
      "source": [
        "df.to_csv('inov_gcap.csv')"
      ],
      "metadata": {
        "id": "Edeh84UZatLJ"
      },
      "execution_count": null,
      "outputs": []
    }
  ]
}